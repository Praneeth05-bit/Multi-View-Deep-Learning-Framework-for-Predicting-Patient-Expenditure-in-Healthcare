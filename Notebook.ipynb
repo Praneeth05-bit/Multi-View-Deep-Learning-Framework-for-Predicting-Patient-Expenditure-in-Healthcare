{
 "cells": [
  {
   "cell_type": "code",
   "execution_count": 1,
   "metadata": {},
   "outputs": [
    {
     "name": "stderr",
     "output_type": "stream",
     "text": [
      "Using TensorFlow backend.\n"
     ]
    }
   ],
   "source": [
    "import os\n",
    "import keras"
   ]
  },
  {
   "cell_type": "code",
   "execution_count": 2,
   "metadata": {},
   "outputs": [],
   "source": [
    "from __future__ import absolute_import\n",
    "from __future__ import division\n",
    "from __future__ import print_function\n",
    "\n",
    "import itertools\n",
    "\n",
    "import pandas as pd\n",
    "import numpy as np\n",
    "import matplotlib.pyplot as plt\n",
    "from pylab import rcParams\n",
    "import matplotlib\n",
    "\n",
    "from sklearn.model_selection import train_test_split\n",
    "from sklearn.preprocessing import MinMaxScaler"
   ]
  },
  {
   "cell_type": "code",
   "execution_count": 3,
   "metadata": {},
   "outputs": [
    {
     "name": "stdout",
     "output_type": "stream",
     "text": [
      "Shape of the train data with all features: (986, 11)\n",
      "\n",
      "Shape of the train data with numerical features: (986, 11)\n"
     ]
    }
   ],
   "source": [
    "train = pd.read_csv('data/Medicalpremium.csv')\n",
    "print('Shape of the train data with all features:', train.shape)\n",
    "train = train.select_dtypes(exclude=['object'])\n",
    "print(\"\")\n",
    "print('Shape of the train data with numerical features:', train.shape)\n",
    "#train.drop('Id',axis = 1, inplace = True)\n",
    "train.fillna(0,inplace=True)"
   ]
  },
  {
   "cell_type": "code",
   "execution_count": 4,
   "metadata": {},
   "outputs": [],
   "source": [
    "test = train[600:986]\n",
    "test = test.select_dtypes(exclude=['object'])\n",
    "#ID = test.Id\n",
    "test.fillna(0,inplace=True)\n",
    "#test.drop('Id',axis = 1, inplace = True)"
   ]
  },
  {
   "cell_type": "code",
   "execution_count": 5,
   "metadata": {},
   "outputs": [
    {
     "data": {
      "text/html": [
       "<div>\n",
       "<style scoped>\n",
       "    .dataframe tbody tr th:only-of-type {\n",
       "        vertical-align: middle;\n",
       "    }\n",
       "\n",
       "    .dataframe tbody tr th {\n",
       "        vertical-align: top;\n",
       "    }\n",
       "\n",
       "    .dataframe thead th {\n",
       "        text-align: right;\n",
       "    }\n",
       "</style>\n",
       "<table border=\"1\" class=\"dataframe\">\n",
       "  <thead>\n",
       "    <tr style=\"text-align: right;\">\n",
       "      <th></th>\n",
       "      <th>Age</th>\n",
       "      <th>Diabetes</th>\n",
       "      <th>BloodPressureProblems</th>\n",
       "      <th>AnyTransplants</th>\n",
       "      <th>AnyChronicDiseases</th>\n",
       "      <th>Height</th>\n",
       "      <th>Weight</th>\n",
       "      <th>KnownAllergies</th>\n",
       "      <th>HistoryOfCancerInFamily</th>\n",
       "      <th>NumberOfMajorSurgeries</th>\n",
       "      <th>PremiumPrice</th>\n",
       "    </tr>\n",
       "  </thead>\n",
       "  <tbody>\n",
       "    <tr>\n",
       "      <th>0</th>\n",
       "      <td>45</td>\n",
       "      <td>0</td>\n",
       "      <td>0</td>\n",
       "      <td>0</td>\n",
       "      <td>0</td>\n",
       "      <td>155</td>\n",
       "      <td>57</td>\n",
       "      <td>0</td>\n",
       "      <td>0</td>\n",
       "      <td>0</td>\n",
       "      <td>25000</td>\n",
       "    </tr>\n",
       "    <tr>\n",
       "      <th>1</th>\n",
       "      <td>60</td>\n",
       "      <td>1</td>\n",
       "      <td>0</td>\n",
       "      <td>0</td>\n",
       "      <td>0</td>\n",
       "      <td>180</td>\n",
       "      <td>73</td>\n",
       "      <td>0</td>\n",
       "      <td>0</td>\n",
       "      <td>0</td>\n",
       "      <td>29000</td>\n",
       "    </tr>\n",
       "    <tr>\n",
       "      <th>2</th>\n",
       "      <td>36</td>\n",
       "      <td>1</td>\n",
       "      <td>1</td>\n",
       "      <td>0</td>\n",
       "      <td>0</td>\n",
       "      <td>158</td>\n",
       "      <td>59</td>\n",
       "      <td>0</td>\n",
       "      <td>0</td>\n",
       "      <td>1</td>\n",
       "      <td>23000</td>\n",
       "    </tr>\n",
       "    <tr>\n",
       "      <th>3</th>\n",
       "      <td>52</td>\n",
       "      <td>1</td>\n",
       "      <td>1</td>\n",
       "      <td>0</td>\n",
       "      <td>1</td>\n",
       "      <td>183</td>\n",
       "      <td>93</td>\n",
       "      <td>0</td>\n",
       "      <td>0</td>\n",
       "      <td>2</td>\n",
       "      <td>28000</td>\n",
       "    </tr>\n",
       "    <tr>\n",
       "      <th>4</th>\n",
       "      <td>38</td>\n",
       "      <td>0</td>\n",
       "      <td>0</td>\n",
       "      <td>0</td>\n",
       "      <td>1</td>\n",
       "      <td>166</td>\n",
       "      <td>88</td>\n",
       "      <td>0</td>\n",
       "      <td>0</td>\n",
       "      <td>1</td>\n",
       "      <td>23000</td>\n",
       "    </tr>\n",
       "  </tbody>\n",
       "</table>\n",
       "</div>"
      ],
      "text/plain": [
       "   Age  Diabetes  BloodPressureProblems  AnyTransplants  AnyChronicDiseases  \\\n",
       "0   45         0                      0               0                   0   \n",
       "1   60         1                      0               0                   0   \n",
       "2   36         1                      1               0                   0   \n",
       "3   52         1                      1               0                   1   \n",
       "4   38         0                      0               0                   1   \n",
       "\n",
       "   Height  Weight  KnownAllergies  HistoryOfCancerInFamily  \\\n",
       "0     155      57               0                        0   \n",
       "1     180      73               0                        0   \n",
       "2     158      59               0                        0   \n",
       "3     183      93               0                        0   \n",
       "4     166      88               0                        0   \n",
       "\n",
       "   NumberOfMajorSurgeries  PremiumPrice  \n",
       "0                       0         25000  \n",
       "1                       0         29000  \n",
       "2                       1         23000  \n",
       "3                       2         28000  \n",
       "4                       1         23000  "
      ]
     },
     "execution_count": 5,
     "metadata": {},
     "output_type": "execute_result"
    }
   ],
   "source": [
    "train.head(5)"
   ]
  },
  {
   "cell_type": "code",
   "execution_count": 7,
   "metadata": {},
   "outputs": [
    {
     "name": "stdout",
     "output_type": "stream",
     "text": [
      "<class 'pandas.core.frame.DataFrame'>\n",
      "RangeIndex: 986 entries, 0 to 985\n",
      "Data columns (total 11 columns):\n",
      "Age                        986 non-null int64\n",
      "Diabetes                   986 non-null int64\n",
      "BloodPressureProblems      986 non-null int64\n",
      "AnyTransplants             986 non-null int64\n",
      "AnyChronicDiseases         986 non-null int64\n",
      "Height                     986 non-null int64\n",
      "Weight                     986 non-null int64\n",
      "KnownAllergies             986 non-null int64\n",
      "HistoryOfCancerInFamily    986 non-null int64\n",
      "NumberOfMajorSurgeries     986 non-null int64\n",
      "PremiumPrice               986 non-null int64\n",
      "dtypes: int64(11)\n",
      "memory usage: 84.8 KB\n"
     ]
    }
   ],
   "source": [
    "train.info()"
   ]
  },
  {
   "cell_type": "code",
   "execution_count": 64,
   "metadata": {},
   "outputs": [
    {
     "data": {
      "text/plain": [
       "<matplotlib.axes._subplots.AxesSubplot at 0x7f15f7820588>"
      ]
     },
     "execution_count": 64,
     "metadata": {},
     "output_type": "execute_result"
    },
    {
     "data": {
      "image/png": "[encoded data removed]",
      "text/plain": [
       "<Figure size 432x288 with 1 Axes>"
      ]
     },
     "metadata": {
      "needs_background": "light"
     },
     "output_type": "display_data"
    }
   ],
   "source": [
    "import seaborn as sns\n",
    "sns.countplot(x=\"Diabetes\", data = train)"
   ]
  },
  {
   "cell_type": "code",
   "execution_count": 65,
   "metadata": {},
   "outputs": [
    {
     "data": {
      "text/plain": [
       "<matplotlib.axes._subplots.AxesSubplot at 0x7f165445aac8>"
      ]
     },
     "execution_count": 65,
     "metadata": {},
     "output_type": "execute_result"
    },
    {
     "data": {
      "image/png": "[encoded data removed]",
      "text/plain": [
       "<Figure size 432x288 with 1 Axes>"
      ]
     },
     "metadata": {
      "needs_background": "light"
     },
     "output_type": "display_data"
    }
   ],
   "source": [
    "sns.countplot(x=\"BloodPressureProblems\", data = train)"
   ]
  },
  {
   "cell_type": "code",
   "execution_count": 66,
   "metadata": {},
   "outputs": [
    {
     "data": {
      "text/plain": [
       "<matplotlib.axes._subplots.AxesSubplot at 0x7f15f77aaba8>"
      ]
     },
     "execution_count": 66,
     "metadata": {},
     "output_type": "execute_result"
    },
    {
     "data": {
      "image/png": "[encoded data removed]",
      "text/plain": [
       "<Figure size 432x288 with 1 Axes>"
      ]
     },
     "metadata": {
      "needs_background": "light"
     },
     "output_type": "display_data"
    }
   ],
   "source": [
    "sns.countplot(x=\"AnyTransplants\", data = train)"
   ]
  },
  {
   "cell_type": "code",
   "execution_count": 67,
   "metadata": {},
   "outputs": [
    {
     "data": {
      "text/plain": [
       "<matplotlib.axes._subplots.AxesSubplot at 0x7f15f77748d0>"
      ]
     },
     "execution_count": 67,
     "metadata": {},
     "output_type": "execute_result"
    },
    {
     "data": {
      "image/png": "[encoded data removed]",
      "text/plain": [
       "<Figure size 432x288 with 1 Axes>"
      ]
     },
     "metadata": {
      "needs_background": "light"
     },
     "output_type": "display_data"
    }
   ],
   "source": [
    "sns.countplot(x=\"AnyChronicDiseases\", data = train)"
   ]
  },
  {
   "cell_type": "code",
   "execution_count": 68,
   "metadata": {},
   "outputs": [
    {
     "data": {
      "text/plain": [
       "<matplotlib.axes._subplots.AxesSubplot at 0x7f15f76d45f8>"
      ]
     },
     "execution_count": 68,
     "metadata": {},
     "output_type": "execute_result"
    },
    {
     "data": {
      "image/png": "[encoded data removed]",
      "text/plain": [
       "<Figure size 432x288 with 1 Axes>"
      ]
     },
     "metadata": {
      "needs_background": "light"
     },
     "output_type": "display_data"
    }
   ],
   "source": [
    "sns.countplot(x=\"KnownAllergies\", data = train)"
   ]
  },
  {
   "cell_type": "code",
   "execution_count": 69,
   "metadata": {},
   "outputs": [
    {
     "data": {
      "text/plain": [
       "<matplotlib.axes._subplots.AxesSubplot at 0x7f15f7695940>"
      ]
     },
     "execution_count": 69,
     "metadata": {},
     "output_type": "execute_result"
    },
    {
     "data": {
      "image/png": "[encoded data removed]",
      "text/plain": [
       "<Figure size 432x288 with 1 Axes>"
      ]
     },
     "metadata": {
      "needs_background": "light"
     },
     "output_type": "display_data"
    }
   ],
   "source": [
    "sns.countplot(x=\"HistoryOfCancerInFamily\", data = train)"
   ]
  },
  {
   "cell_type": "code",
   "execution_count": 70,
   "metadata": {},
   "outputs": [
    {
     "data": {
      "text/plain": [
       "<matplotlib.axes._subplots.AxesSubplot at 0x7f15f766f9e8>"
      ]
     },
     "execution_count": 70,
     "metadata": {},
     "output_type": "execute_result"
    },
    {
     "data": {
      "image/png": "[encoded data removed]",
      "text/plain": [
       "<Figure size 432x288 with 1 Axes>"
      ]
     },
     "metadata": {
      "needs_background": "light"
     },
     "output_type": "display_data"
    }
   ],
   "source": [
    "sns.countplot(x=\"NumberOfMajorSurgeries\", data = train)"
   ]
  },
  {
   "cell_type": "code",
   "execution_count": 27,
   "metadata": {},
   "outputs": [
    {
     "name": "stderr",
     "output_type": "stream",
     "text": [
      "/home/user/test/lib/python3.6/site-packages/seaborn/distributions.py:2557: FutureWarning: `distplot` is a deprecated function and will be removed in a future version. Please adapt your code to use either `displot` (a figure-level function with similar flexibility) or `histplot` (an axes-level function for histograms).\n",
      "  warnings.warn(msg, FutureWarning)\n"
     ]
    },
    {
     "data": {
      "text/plain": [
       "<matplotlib.axes._subplots.AxesSubplot at 0x7f16540829b0>"
      ]
     },
     "execution_count": 27,
     "metadata": {},
     "output_type": "execute_result"
    },
    {
     "data": {
      "image/png": "[encoded data removed]",
      "text/plain": [
       "<Figure size 432x288 with 1 Axes>"
      ]
     },
     "metadata": {
      "needs_background": "light"
     },
     "output_type": "display_data"
    }
   ],
   "source": [
    "import seaborn as sns\n",
    "sns.distplot(train['PremiumPrice'])"
   ]
  },
  {
   "cell_type": "code",
   "execution_count": 28,
   "metadata": {},
   "outputs": [
    {
     "data": {
      "text/plain": [
       "<matplotlib.axes._subplots.AxesSubplot at 0x7f163c03e048>"
      ]
     },
     "execution_count": 28,
     "metadata": {},
     "output_type": "execute_result"
    },
    {
     "data": {
      "image/png": "[encoded data removed]",
      "text/plain": [
       "<Figure size 432x288 with 2 Axes>"
      ]
     },
     "metadata": {
      "needs_background": "light"
     },
     "output_type": "display_data"
    }
   ],
   "source": [
    "sns.heatmap(train.corr(),annot = True) #Just to see the correlation between the features and the label"
   ]
  },
  {
   "cell_type": "code",
   "execution_count": 6,
   "metadata": {},
   "outputs": [
    {
     "data": {
      "text/plain": [
       "(986, 11)"
      ]
     },
     "execution_count": 6,
     "metadata": {},
     "output_type": "execute_result"
    }
   ],
   "source": [
    "train.shape"
   ]
  },
  {
   "cell_type": "code",
   "execution_count": 9,
   "metadata": {},
   "outputs": [],
   "source": [
    "X = train.iloc[:, 0:10]\n",
    "y = train.iloc[:,10]"
   ]
  },
  {
   "cell_type": "code",
   "execution_count": 10,
   "metadata": {},
   "outputs": [
    {
     "data": {
      "text/html": [
       "<div>\n",
       "<style scoped>\n",
       "    .dataframe tbody tr th:only-of-type {\n",
       "        vertical-align: middle;\n",
       "    }\n",
       "\n",
       "    .dataframe tbody tr th {\n",
       "        vertical-align: top;\n",
       "    }\n",
       "\n",
       "    .dataframe thead th {\n",
       "        text-align: right;\n",
       "    }\n",
       "</style>\n",
       "<table border=\"1\" class=\"dataframe\">\n",
       "  <thead>\n",
       "    <tr style=\"text-align: right;\">\n",
       "      <th></th>\n",
       "      <th>Age</th>\n",
       "      <th>Diabetes</th>\n",
       "      <th>BloodPressureProblems</th>\n",
       "      <th>AnyTransplants</th>\n",
       "      <th>AnyChronicDiseases</th>\n",
       "      <th>Height</th>\n",
       "      <th>Weight</th>\n",
       "      <th>KnownAllergies</th>\n",
       "      <th>HistoryOfCancerInFamily</th>\n",
       "      <th>NumberOfMajorSurgeries</th>\n",
       "    </tr>\n",
       "  </thead>\n",
       "  <tbody>\n",
       "    <tr>\n",
       "      <th>0</th>\n",
       "      <td>45</td>\n",
       "      <td>0</td>\n",
       "      <td>0</td>\n",
       "      <td>0</td>\n",
       "      <td>0</td>\n",
       "      <td>155</td>\n",
       "      <td>57</td>\n",
       "      <td>0</td>\n",
       "      <td>0</td>\n",
       "      <td>0</td>\n",
       "    </tr>\n",
       "    <tr>\n",
       "      <th>1</th>\n",
       "      <td>60</td>\n",
       "      <td>1</td>\n",
       "      <td>0</td>\n",
       "      <td>0</td>\n",
       "      <td>0</td>\n",
       "      <td>180</td>\n",
       "      <td>73</td>\n",
       "      <td>0</td>\n",
       "      <td>0</td>\n",
       "      <td>0</td>\n",
       "    </tr>\n",
       "    <tr>\n",
       "      <th>2</th>\n",
       "      <td>36</td>\n",
       "      <td>1</td>\n",
       "      <td>1</td>\n",
       "      <td>0</td>\n",
       "      <td>0</td>\n",
       "      <td>158</td>\n",
       "      <td>59</td>\n",
       "      <td>0</td>\n",
       "      <td>0</td>\n",
       "      <td>1</td>\n",
       "    </tr>\n",
       "    <tr>\n",
       "      <th>3</th>\n",
       "      <td>52</td>\n",
       "      <td>1</td>\n",
       "      <td>1</td>\n",
       "      <td>0</td>\n",
       "      <td>1</td>\n",
       "      <td>183</td>\n",
       "      <td>93</td>\n",
       "      <td>0</td>\n",
       "      <td>0</td>\n",
       "      <td>2</td>\n",
       "    </tr>\n",
       "    <tr>\n",
       "      <th>4</th>\n",
       "      <td>38</td>\n",
       "      <td>0</td>\n",
       "      <td>0</td>\n",
       "      <td>0</td>\n",
       "      <td>1</td>\n",
       "      <td>166</td>\n",
       "      <td>88</td>\n",
       "      <td>0</td>\n",
       "      <td>0</td>\n",
       "      <td>1</td>\n",
       "    </tr>\n",
       "    <tr>\n",
       "      <th>5</th>\n",
       "      <td>30</td>\n",
       "      <td>0</td>\n",
       "      <td>0</td>\n",
       "      <td>0</td>\n",
       "      <td>0</td>\n",
       "      <td>160</td>\n",
       "      <td>69</td>\n",
       "      <td>1</td>\n",
       "      <td>0</td>\n",
       "      <td>1</td>\n",
       "    </tr>\n",
       "    <tr>\n",
       "      <th>6</th>\n",
       "      <td>33</td>\n",
       "      <td>0</td>\n",
       "      <td>0</td>\n",
       "      <td>0</td>\n",
       "      <td>0</td>\n",
       "      <td>150</td>\n",
       "      <td>54</td>\n",
       "      <td>0</td>\n",
       "      <td>0</td>\n",
       "      <td>0</td>\n",
       "    </tr>\n",
       "    <tr>\n",
       "      <th>7</th>\n",
       "      <td>23</td>\n",
       "      <td>0</td>\n",
       "      <td>0</td>\n",
       "      <td>0</td>\n",
       "      <td>0</td>\n",
       "      <td>181</td>\n",
       "      <td>79</td>\n",
       "      <td>1</td>\n",
       "      <td>0</td>\n",
       "      <td>0</td>\n",
       "    </tr>\n",
       "    <tr>\n",
       "      <th>8</th>\n",
       "      <td>48</td>\n",
       "      <td>1</td>\n",
       "      <td>0</td>\n",
       "      <td>0</td>\n",
       "      <td>0</td>\n",
       "      <td>169</td>\n",
       "      <td>74</td>\n",
       "      <td>1</td>\n",
       "      <td>0</td>\n",
       "      <td>0</td>\n",
       "    </tr>\n",
       "    <tr>\n",
       "      <th>9</th>\n",
       "      <td>38</td>\n",
       "      <td>0</td>\n",
       "      <td>0</td>\n",
       "      <td>0</td>\n",
       "      <td>0</td>\n",
       "      <td>182</td>\n",
       "      <td>93</td>\n",
       "      <td>0</td>\n",
       "      <td>0</td>\n",
       "      <td>0</td>\n",
       "    </tr>\n",
       "    <tr>\n",
       "      <th>10</th>\n",
       "      <td>60</td>\n",
       "      <td>0</td>\n",
       "      <td>1</td>\n",
       "      <td>0</td>\n",
       "      <td>0</td>\n",
       "      <td>175</td>\n",
       "      <td>74</td>\n",
       "      <td>0</td>\n",
       "      <td>0</td>\n",
       "      <td>2</td>\n",
       "    </tr>\n",
       "    <tr>\n",
       "      <th>11</th>\n",
       "      <td>66</td>\n",
       "      <td>1</td>\n",
       "      <td>0</td>\n",
       "      <td>0</td>\n",
       "      <td>0</td>\n",
       "      <td>186</td>\n",
       "      <td>67</td>\n",
       "      <td>0</td>\n",
       "      <td>0</td>\n",
       "      <td>0</td>\n",
       "    </tr>\n",
       "    <tr>\n",
       "      <th>12</th>\n",
       "      <td>24</td>\n",
       "      <td>0</td>\n",
       "      <td>0</td>\n",
       "      <td>0</td>\n",
       "      <td>0</td>\n",
       "      <td>178</td>\n",
       "      <td>57</td>\n",
       "      <td>1</td>\n",
       "      <td>0</td>\n",
       "      <td>1</td>\n",
       "    </tr>\n",
       "    <tr>\n",
       "      <th>13</th>\n",
       "      <td>46</td>\n",
       "      <td>0</td>\n",
       "      <td>1</td>\n",
       "      <td>0</td>\n",
       "      <td>0</td>\n",
       "      <td>184</td>\n",
       "      <td>97</td>\n",
       "      <td>0</td>\n",
       "      <td>0</td>\n",
       "      <td>0</td>\n",
       "    </tr>\n",
       "    <tr>\n",
       "      <th>14</th>\n",
       "      <td>18</td>\n",
       "      <td>0</td>\n",
       "      <td>0</td>\n",
       "      <td>1</td>\n",
       "      <td>0</td>\n",
       "      <td>150</td>\n",
       "      <td>76</td>\n",
       "      <td>0</td>\n",
       "      <td>0</td>\n",
       "      <td>1</td>\n",
       "    </tr>\n",
       "    <tr>\n",
       "      <th>15</th>\n",
       "      <td>38</td>\n",
       "      <td>0</td>\n",
       "      <td>0</td>\n",
       "      <td>0</td>\n",
       "      <td>0</td>\n",
       "      <td>160</td>\n",
       "      <td>68</td>\n",
       "      <td>1</td>\n",
       "      <td>0</td>\n",
       "      <td>1</td>\n",
       "    </tr>\n",
       "    <tr>\n",
       "      <th>16</th>\n",
       "      <td>42</td>\n",
       "      <td>0</td>\n",
       "      <td>0</td>\n",
       "      <td>0</td>\n",
       "      <td>1</td>\n",
       "      <td>149</td>\n",
       "      <td>67</td>\n",
       "      <td>0</td>\n",
       "      <td>0</td>\n",
       "      <td>0</td>\n",
       "    </tr>\n",
       "    <tr>\n",
       "      <th>17</th>\n",
       "      <td>38</td>\n",
       "      <td>1</td>\n",
       "      <td>0</td>\n",
       "      <td>0</td>\n",
       "      <td>0</td>\n",
       "      <td>154</td>\n",
       "      <td>82</td>\n",
       "      <td>0</td>\n",
       "      <td>0</td>\n",
       "      <td>0</td>\n",
       "    </tr>\n",
       "    <tr>\n",
       "      <th>18</th>\n",
       "      <td>57</td>\n",
       "      <td>1</td>\n",
       "      <td>0</td>\n",
       "      <td>0</td>\n",
       "      <td>0</td>\n",
       "      <td>156</td>\n",
       "      <td>61</td>\n",
       "      <td>0</td>\n",
       "      <td>0</td>\n",
       "      <td>0</td>\n",
       "    </tr>\n",
       "    <tr>\n",
       "      <th>19</th>\n",
       "      <td>21</td>\n",
       "      <td>0</td>\n",
       "      <td>1</td>\n",
       "      <td>0</td>\n",
       "      <td>0</td>\n",
       "      <td>186</td>\n",
       "      <td>97</td>\n",
       "      <td>0</td>\n",
       "      <td>0</td>\n",
       "      <td>0</td>\n",
       "    </tr>\n",
       "    <tr>\n",
       "      <th>20</th>\n",
       "      <td>49</td>\n",
       "      <td>1</td>\n",
       "      <td>0</td>\n",
       "      <td>0</td>\n",
       "      <td>0</td>\n",
       "      <td>160</td>\n",
       "      <td>97</td>\n",
       "      <td>0</td>\n",
       "      <td>0</td>\n",
       "      <td>2</td>\n",
       "    </tr>\n",
       "    <tr>\n",
       "      <th>21</th>\n",
       "      <td>20</td>\n",
       "      <td>1</td>\n",
       "      <td>0</td>\n",
       "      <td>0</td>\n",
       "      <td>0</td>\n",
       "      <td>181</td>\n",
       "      <td>81</td>\n",
       "      <td>0</td>\n",
       "      <td>0</td>\n",
       "      <td>0</td>\n",
       "    </tr>\n",
       "    <tr>\n",
       "      <th>22</th>\n",
       "      <td>35</td>\n",
       "      <td>0</td>\n",
       "      <td>0</td>\n",
       "      <td>0</td>\n",
       "      <td>0</td>\n",
       "      <td>163</td>\n",
       "      <td>92</td>\n",
       "      <td>0</td>\n",
       "      <td>0</td>\n",
       "      <td>1</td>\n",
       "    </tr>\n",
       "    <tr>\n",
       "      <th>23</th>\n",
       "      <td>35</td>\n",
       "      <td>0</td>\n",
       "      <td>1</td>\n",
       "      <td>0</td>\n",
       "      <td>0</td>\n",
       "      <td>175</td>\n",
       "      <td>83</td>\n",
       "      <td>0</td>\n",
       "      <td>0</td>\n",
       "      <td>1</td>\n",
       "    </tr>\n",
       "    <tr>\n",
       "      <th>24</th>\n",
       "      <td>53</td>\n",
       "      <td>0</td>\n",
       "      <td>1</td>\n",
       "      <td>0</td>\n",
       "      <td>0</td>\n",
       "      <td>151</td>\n",
       "      <td>97</td>\n",
       "      <td>0</td>\n",
       "      <td>1</td>\n",
       "      <td>1</td>\n",
       "    </tr>\n",
       "    <tr>\n",
       "      <th>25</th>\n",
       "      <td>31</td>\n",
       "      <td>0</td>\n",
       "      <td>0</td>\n",
       "      <td>0</td>\n",
       "      <td>0</td>\n",
       "      <td>172</td>\n",
       "      <td>57</td>\n",
       "      <td>0</td>\n",
       "      <td>0</td>\n",
       "      <td>0</td>\n",
       "    </tr>\n",
       "    <tr>\n",
       "      <th>26</th>\n",
       "      <td>22</td>\n",
       "      <td>0</td>\n",
       "      <td>0</td>\n",
       "      <td>1</td>\n",
       "      <td>0</td>\n",
       "      <td>151</td>\n",
       "      <td>97</td>\n",
       "      <td>0</td>\n",
       "      <td>0</td>\n",
       "      <td>0</td>\n",
       "    </tr>\n",
       "    <tr>\n",
       "      <th>27</th>\n",
       "      <td>60</td>\n",
       "      <td>0</td>\n",
       "      <td>1</td>\n",
       "      <td>0</td>\n",
       "      <td>0</td>\n",
       "      <td>151</td>\n",
       "      <td>88</td>\n",
       "      <td>0</td>\n",
       "      <td>0</td>\n",
       "      <td>2</td>\n",
       "    </tr>\n",
       "    <tr>\n",
       "      <th>28</th>\n",
       "      <td>30</td>\n",
       "      <td>0</td>\n",
       "      <td>0</td>\n",
       "      <td>0</td>\n",
       "      <td>1</td>\n",
       "      <td>162</td>\n",
       "      <td>73</td>\n",
       "      <td>1</td>\n",
       "      <td>0</td>\n",
       "      <td>0</td>\n",
       "    </tr>\n",
       "    <tr>\n",
       "      <th>29</th>\n",
       "      <td>33</td>\n",
       "      <td>1</td>\n",
       "      <td>1</td>\n",
       "      <td>0</td>\n",
       "      <td>1</td>\n",
       "      <td>153</td>\n",
       "      <td>58</td>\n",
       "      <td>0</td>\n",
       "      <td>0</td>\n",
       "      <td>0</td>\n",
       "    </tr>\n",
       "    <tr>\n",
       "      <th>...</th>\n",
       "      <td>...</td>\n",
       "      <td>...</td>\n",
       "      <td>...</td>\n",
       "      <td>...</td>\n",
       "      <td>...</td>\n",
       "      <td>...</td>\n",
       "      <td>...</td>\n",
       "      <td>...</td>\n",
       "      <td>...</td>\n",
       "      <td>...</td>\n",
       "    </tr>\n",
       "    <tr>\n",
       "      <th>956</th>\n",
       "      <td>46</td>\n",
       "      <td>1</td>\n",
       "      <td>1</td>\n",
       "      <td>0</td>\n",
       "      <td>0</td>\n",
       "      <td>146</td>\n",
       "      <td>67</td>\n",
       "      <td>0</td>\n",
       "      <td>0</td>\n",
       "      <td>0</td>\n",
       "    </tr>\n",
       "    <tr>\n",
       "      <th>957</th>\n",
       "      <td>27</td>\n",
       "      <td>1</td>\n",
       "      <td>1</td>\n",
       "      <td>0</td>\n",
       "      <td>0</td>\n",
       "      <td>155</td>\n",
       "      <td>75</td>\n",
       "      <td>0</td>\n",
       "      <td>0</td>\n",
       "      <td>1</td>\n",
       "    </tr>\n",
       "    <tr>\n",
       "      <th>958</th>\n",
       "      <td>18</td>\n",
       "      <td>0</td>\n",
       "      <td>0</td>\n",
       "      <td>0</td>\n",
       "      <td>0</td>\n",
       "      <td>162</td>\n",
       "      <td>70</td>\n",
       "      <td>0</td>\n",
       "      <td>0</td>\n",
       "      <td>0</td>\n",
       "    </tr>\n",
       "    <tr>\n",
       "      <th>959</th>\n",
       "      <td>66</td>\n",
       "      <td>0</td>\n",
       "      <td>1</td>\n",
       "      <td>0</td>\n",
       "      <td>0</td>\n",
       "      <td>153</td>\n",
       "      <td>75</td>\n",
       "      <td>0</td>\n",
       "      <td>0</td>\n",
       "      <td>2</td>\n",
       "    </tr>\n",
       "    <tr>\n",
       "      <th>960</th>\n",
       "      <td>23</td>\n",
       "      <td>0</td>\n",
       "      <td>0</td>\n",
       "      <td>0</td>\n",
       "      <td>0</td>\n",
       "      <td>175</td>\n",
       "      <td>73</td>\n",
       "      <td>0</td>\n",
       "      <td>0</td>\n",
       "      <td>0</td>\n",
       "    </tr>\n",
       "    <tr>\n",
       "      <th>961</th>\n",
       "      <td>59</td>\n",
       "      <td>1</td>\n",
       "      <td>1</td>\n",
       "      <td>0</td>\n",
       "      <td>0</td>\n",
       "      <td>154</td>\n",
       "      <td>66</td>\n",
       "      <td>0</td>\n",
       "      <td>1</td>\n",
       "      <td>1</td>\n",
       "    </tr>\n",
       "    <tr>\n",
       "      <th>962</th>\n",
       "      <td>32</td>\n",
       "      <td>1</td>\n",
       "      <td>1</td>\n",
       "      <td>0</td>\n",
       "      <td>0</td>\n",
       "      <td>166</td>\n",
       "      <td>70</td>\n",
       "      <td>1</td>\n",
       "      <td>0</td>\n",
       "      <td>0</td>\n",
       "    </tr>\n",
       "    <tr>\n",
       "      <th>963</th>\n",
       "      <td>49</td>\n",
       "      <td>1</td>\n",
       "      <td>0</td>\n",
       "      <td>0</td>\n",
       "      <td>0</td>\n",
       "      <td>147</td>\n",
       "      <td>67</td>\n",
       "      <td>0</td>\n",
       "      <td>0</td>\n",
       "      <td>1</td>\n",
       "    </tr>\n",
       "    <tr>\n",
       "      <th>964</th>\n",
       "      <td>27</td>\n",
       "      <td>1</td>\n",
       "      <td>0</td>\n",
       "      <td>0</td>\n",
       "      <td>0</td>\n",
       "      <td>162</td>\n",
       "      <td>69</td>\n",
       "      <td>0</td>\n",
       "      <td>0</td>\n",
       "      <td>0</td>\n",
       "    </tr>\n",
       "    <tr>\n",
       "      <th>965</th>\n",
       "      <td>35</td>\n",
       "      <td>1</td>\n",
       "      <td>1</td>\n",
       "      <td>0</td>\n",
       "      <td>0</td>\n",
       "      <td>165</td>\n",
       "      <td>67</td>\n",
       "      <td>0</td>\n",
       "      <td>0</td>\n",
       "      <td>1</td>\n",
       "    </tr>\n",
       "    <tr>\n",
       "      <th>966</th>\n",
       "      <td>66</td>\n",
       "      <td>0</td>\n",
       "      <td>1</td>\n",
       "      <td>0</td>\n",
       "      <td>1</td>\n",
       "      <td>176</td>\n",
       "      <td>71</td>\n",
       "      <td>1</td>\n",
       "      <td>0</td>\n",
       "      <td>1</td>\n",
       "    </tr>\n",
       "    <tr>\n",
       "      <th>967</th>\n",
       "      <td>42</td>\n",
       "      <td>1</td>\n",
       "      <td>1</td>\n",
       "      <td>0</td>\n",
       "      <td>0</td>\n",
       "      <td>152</td>\n",
       "      <td>67</td>\n",
       "      <td>1</td>\n",
       "      <td>0</td>\n",
       "      <td>1</td>\n",
       "    </tr>\n",
       "    <tr>\n",
       "      <th>968</th>\n",
       "      <td>18</td>\n",
       "      <td>0</td>\n",
       "      <td>0</td>\n",
       "      <td>0</td>\n",
       "      <td>0</td>\n",
       "      <td>160</td>\n",
       "      <td>73</td>\n",
       "      <td>0</td>\n",
       "      <td>0</td>\n",
       "      <td>0</td>\n",
       "    </tr>\n",
       "    <tr>\n",
       "      <th>969</th>\n",
       "      <td>45</td>\n",
       "      <td>0</td>\n",
       "      <td>1</td>\n",
       "      <td>0</td>\n",
       "      <td>0</td>\n",
       "      <td>168</td>\n",
       "      <td>66</td>\n",
       "      <td>0</td>\n",
       "      <td>0</td>\n",
       "      <td>0</td>\n",
       "    </tr>\n",
       "    <tr>\n",
       "      <th>970</th>\n",
       "      <td>46</td>\n",
       "      <td>1</td>\n",
       "      <td>1</td>\n",
       "      <td>0</td>\n",
       "      <td>0</td>\n",
       "      <td>168</td>\n",
       "      <td>75</td>\n",
       "      <td>0</td>\n",
       "      <td>0</td>\n",
       "      <td>1</td>\n",
       "    </tr>\n",
       "    <tr>\n",
       "      <th>971</th>\n",
       "      <td>26</td>\n",
       "      <td>0</td>\n",
       "      <td>0</td>\n",
       "      <td>0</td>\n",
       "      <td>0</td>\n",
       "      <td>178</td>\n",
       "      <td>66</td>\n",
       "      <td>0</td>\n",
       "      <td>0</td>\n",
       "      <td>0</td>\n",
       "    </tr>\n",
       "    <tr>\n",
       "      <th>972</th>\n",
       "      <td>31</td>\n",
       "      <td>0</td>\n",
       "      <td>1</td>\n",
       "      <td>0</td>\n",
       "      <td>0</td>\n",
       "      <td>152</td>\n",
       "      <td>75</td>\n",
       "      <td>1</td>\n",
       "      <td>0</td>\n",
       "      <td>1</td>\n",
       "    </tr>\n",
       "    <tr>\n",
       "      <th>973</th>\n",
       "      <td>28</td>\n",
       "      <td>0</td>\n",
       "      <td>0</td>\n",
       "      <td>0</td>\n",
       "      <td>0</td>\n",
       "      <td>167</td>\n",
       "      <td>66</td>\n",
       "      <td>0</td>\n",
       "      <td>0</td>\n",
       "      <td>0</td>\n",
       "    </tr>\n",
       "    <tr>\n",
       "      <th>974</th>\n",
       "      <td>47</td>\n",
       "      <td>1</td>\n",
       "      <td>0</td>\n",
       "      <td>0</td>\n",
       "      <td>0</td>\n",
       "      <td>170</td>\n",
       "      <td>66</td>\n",
       "      <td>0</td>\n",
       "      <td>0</td>\n",
       "      <td>0</td>\n",
       "    </tr>\n",
       "    <tr>\n",
       "      <th>975</th>\n",
       "      <td>44</td>\n",
       "      <td>0</td>\n",
       "      <td>1</td>\n",
       "      <td>0</td>\n",
       "      <td>0</td>\n",
       "      <td>161</td>\n",
       "      <td>75</td>\n",
       "      <td>0</td>\n",
       "      <td>0</td>\n",
       "      <td>0</td>\n",
       "    </tr>\n",
       "    <tr>\n",
       "      <th>976</th>\n",
       "      <td>21</td>\n",
       "      <td>0</td>\n",
       "      <td>1</td>\n",
       "      <td>0</td>\n",
       "      <td>0</td>\n",
       "      <td>155</td>\n",
       "      <td>74</td>\n",
       "      <td>0</td>\n",
       "      <td>0</td>\n",
       "      <td>0</td>\n",
       "    </tr>\n",
       "    <tr>\n",
       "      <th>977</th>\n",
       "      <td>45</td>\n",
       "      <td>0</td>\n",
       "      <td>1</td>\n",
       "      <td>0</td>\n",
       "      <td>1</td>\n",
       "      <td>157</td>\n",
       "      <td>67</td>\n",
       "      <td>0</td>\n",
       "      <td>0</td>\n",
       "      <td>1</td>\n",
       "    </tr>\n",
       "    <tr>\n",
       "      <th>978</th>\n",
       "      <td>40</td>\n",
       "      <td>0</td>\n",
       "      <td>1</td>\n",
       "      <td>1</td>\n",
       "      <td>0</td>\n",
       "      <td>168</td>\n",
       "      <td>70</td>\n",
       "      <td>0</td>\n",
       "      <td>0</td>\n",
       "      <td>0</td>\n",
       "    </tr>\n",
       "    <tr>\n",
       "      <th>979</th>\n",
       "      <td>24</td>\n",
       "      <td>0</td>\n",
       "      <td>0</td>\n",
       "      <td>0</td>\n",
       "      <td>0</td>\n",
       "      <td>161</td>\n",
       "      <td>71</td>\n",
       "      <td>0</td>\n",
       "      <td>0</td>\n",
       "      <td>0</td>\n",
       "    </tr>\n",
       "    <tr>\n",
       "      <th>980</th>\n",
       "      <td>40</td>\n",
       "      <td>0</td>\n",
       "      <td>1</td>\n",
       "      <td>1</td>\n",
       "      <td>0</td>\n",
       "      <td>171</td>\n",
       "      <td>74</td>\n",
       "      <td>0</td>\n",
       "      <td>0</td>\n",
       "      <td>0</td>\n",
       "    </tr>\n",
       "    <tr>\n",
       "      <th>981</th>\n",
       "      <td>18</td>\n",
       "      <td>0</td>\n",
       "      <td>0</td>\n",
       "      <td>0</td>\n",
       "      <td>0</td>\n",
       "      <td>169</td>\n",
       "      <td>67</td>\n",
       "      <td>0</td>\n",
       "      <td>0</td>\n",
       "      <td>0</td>\n",
       "    </tr>\n",
       "    <tr>\n",
       "      <th>982</th>\n",
       "      <td>64</td>\n",
       "      <td>1</td>\n",
       "      <td>1</td>\n",
       "      <td>0</td>\n",
       "      <td>0</td>\n",
       "      <td>153</td>\n",
       "      <td>70</td>\n",
       "      <td>0</td>\n",
       "      <td>0</td>\n",
       "      <td>3</td>\n",
       "    </tr>\n",
       "    <tr>\n",
       "      <th>983</th>\n",
       "      <td>56</td>\n",
       "      <td>0</td>\n",
       "      <td>1</td>\n",
       "      <td>0</td>\n",
       "      <td>0</td>\n",
       "      <td>155</td>\n",
       "      <td>71</td>\n",
       "      <td>0</td>\n",
       "      <td>0</td>\n",
       "      <td>1</td>\n",
       "    </tr>\n",
       "    <tr>\n",
       "      <th>984</th>\n",
       "      <td>47</td>\n",
       "      <td>1</td>\n",
       "      <td>1</td>\n",
       "      <td>0</td>\n",
       "      <td>0</td>\n",
       "      <td>158</td>\n",
       "      <td>73</td>\n",
       "      <td>1</td>\n",
       "      <td>0</td>\n",
       "      <td>1</td>\n",
       "    </tr>\n",
       "    <tr>\n",
       "      <th>985</th>\n",
       "      <td>21</td>\n",
       "      <td>0</td>\n",
       "      <td>0</td>\n",
       "      <td>0</td>\n",
       "      <td>0</td>\n",
       "      <td>158</td>\n",
       "      <td>75</td>\n",
       "      <td>1</td>\n",
       "      <td>0</td>\n",
       "      <td>1</td>\n",
       "    </tr>\n",
       "  </tbody>\n",
       "</table>\n",
       "<p>986 rows × 10 columns</p>\n",
       "</div>"
      ],
      "text/plain": [
       "     Age  Diabetes  BloodPressureProblems  AnyTransplants  AnyChronicDiseases  \\\n",
       "0     45         0                      0               0                   0   \n",
       "1     60         1                      0               0                   0   \n",
       "2     36         1                      1               0                   0   \n",
       "3     52         1                      1               0                   1   \n",
       "4     38         0                      0               0                   1   \n",
       "5     30         0                      0               0                   0   \n",
       "6     33         0                      0               0                   0   \n",
       "7     23         0                      0               0                   0   \n",
       "8     48         1                      0               0                   0   \n",
       "9     38         0                      0               0                   0   \n",
       "10    60         0                      1               0                   0   \n",
       "11    66         1                      0               0                   0   \n",
       "12    24         0                      0               0                   0   \n",
       "13    46         0                      1               0                   0   \n",
       "14    18         0                      0               1                   0   \n",
       "15    38         0                      0               0                   0   \n",
       "16    42         0                      0               0                   1   \n",
       "17    38         1                      0               0                   0   \n",
       "18    57         1                      0               0                   0   \n",
       "19    21         0                      1               0                   0   \n",
       "20    49         1                      0               0                   0   \n",
       "21    20         1                      0               0                   0   \n",
       "22    35         0                      0               0                   0   \n",
       "23    35         0                      1               0                   0   \n",
       "24    53         0                      1               0                   0   \n",
       "25    31         0                      0               0                   0   \n",
       "26    22         0                      0               1                   0   \n",
       "27    60         0                      1               0                   0   \n",
       "28    30         0                      0               0                   1   \n",
       "29    33         1                      1               0                   1   \n",
       "..   ...       ...                    ...             ...                 ...   \n",
       "956   46         1                      1               0                   0   \n",
       "957   27         1                      1               0                   0   \n",
       "958   18         0                      0               0                   0   \n",
       "959   66         0                      1               0                   0   \n",
       "960   23         0                      0               0                   0   \n",
       "961   59         1                      1               0                   0   \n",
       "962   32         1                      1               0                   0   \n",
       "963   49         1                      0               0                   0   \n",
       "964   27         1                      0               0                   0   \n",
       "965   35         1                      1               0                   0   \n",
       "966   66         0                      1               0                   1   \n",
       "967   42         1                      1               0                   0   \n",
       "968   18         0                      0               0                   0   \n",
       "969   45         0                      1               0                   0   \n",
       "970   46         1                      1               0                   0   \n",
       "971   26         0                      0               0                   0   \n",
       "972   31         0                      1               0                   0   \n",
       "973   28         0                      0               0                   0   \n",
       "974   47         1                      0               0                   0   \n",
       "975   44         0                      1               0                   0   \n",
       "976   21         0                      1               0                   0   \n",
       "977   45         0                      1               0                   1   \n",
       "978   40         0                      1               1                   0   \n",
       "979   24         0                      0               0                   0   \n",
       "980   40         0                      1               1                   0   \n",
       "981   18         0                      0               0                   0   \n",
       "982   64         1                      1               0                   0   \n",
       "983   56         0                      1               0                   0   \n",
       "984   47         1                      1               0                   0   \n",
       "985   21         0                      0               0                   0   \n",
       "\n",
       "     Height  Weight  KnownAllergies  HistoryOfCancerInFamily  \\\n",
       "0       155      57               0                        0   \n",
       "1       180      73               0                        0   \n",
       "2       158      59               0                        0   \n",
       "3       183      93               0                        0   \n",
       "4       166      88               0                        0   \n",
       "5       160      69               1                        0   \n",
       "6       150      54               0                        0   \n",
       "7       181      79               1                        0   \n",
       "8       169      74               1                        0   \n",
       "9       182      93               0                        0   \n",
       "10      175      74               0                        0   \n",
       "11      186      67               0                        0   \n",
       "12      178      57               1                        0   \n",
       "13      184      97               0                        0   \n",
       "14      150      76               0                        0   \n",
       "15      160      68               1                        0   \n",
       "16      149      67               0                        0   \n",
       "17      154      82               0                        0   \n",
       "18      156      61               0                        0   \n",
       "19      186      97               0                        0   \n",
       "20      160      97               0                        0   \n",
       "21      181      81               0                        0   \n",
       "22      163      92               0                        0   \n",
       "23      175      83               0                        0   \n",
       "24      151      97               0                        1   \n",
       "25      172      57               0                        0   \n",
       "26      151      97               0                        0   \n",
       "27      151      88               0                        0   \n",
       "28      162      73               1                        0   \n",
       "29      153      58               0                        0   \n",
       "..      ...     ...             ...                      ...   \n",
       "956     146      67               0                        0   \n",
       "957     155      75               0                        0   \n",
       "958     162      70               0                        0   \n",
       "959     153      75               0                        0   \n",
       "960     175      73               0                        0   \n",
       "961     154      66               0                        1   \n",
       "962     166      70               1                        0   \n",
       "963     147      67               0                        0   \n",
       "964     162      69               0                        0   \n",
       "965     165      67               0                        0   \n",
       "966     176      71               1                        0   \n",
       "967     152      67               1                        0   \n",
       "968     160      73               0                        0   \n",
       "969     168      66               0                        0   \n",
       "970     168      75               0                        0   \n",
       "971     178      66               0                        0   \n",
       "972     152      75               1                        0   \n",
       "973     167      66               0                        0   \n",
       "974     170      66               0                        0   \n",
       "975     161      75               0                        0   \n",
       "976     155      74               0                        0   \n",
       "977     157      67               0                        0   \n",
       "978     168      70               0                        0   \n",
       "979     161      71               0                        0   \n",
       "980     171      74               0                        0   \n",
       "981     169      67               0                        0   \n",
       "982     153      70               0                        0   \n",
       "983     155      71               0                        0   \n",
       "984     158      73               1                        0   \n",
       "985     158      75               1                        0   \n",
       "\n",
       "     NumberOfMajorSurgeries  \n",
       "0                         0  \n",
       "1                         0  \n",
       "2                         1  \n",
       "3                         2  \n",
       "4                         1  \n",
       "5                         1  \n",
       "6                         0  \n",
       "7                         0  \n",
       "8                         0  \n",
       "9                         0  \n",
       "10                        2  \n",
       "11                        0  \n",
       "12                        1  \n",
       "13                        0  \n",
       "14                        1  \n",
       "15                        1  \n",
       "16                        0  \n",
       "17                        0  \n",
       "18                        0  \n",
       "19                        0  \n",
       "20                        2  \n",
       "21                        0  \n",
       "22                        1  \n",
       "23                        1  \n",
       "24                        1  \n",
       "25                        0  \n",
       "26                        0  \n",
       "27                        2  \n",
       "28                        0  \n",
       "29                        0  \n",
       "..                      ...  \n",
       "956                       0  \n",
       "957                       1  \n",
       "958                       0  \n",
       "959                       2  \n",
       "960                       0  \n",
       "961                       1  \n",
       "962                       0  \n",
       "963                       1  \n",
       "964                       0  \n",
       "965                       1  \n",
       "966                       1  \n",
       "967                       1  \n",
       "968                       0  \n",
       "969                       0  \n",
       "970                       1  \n",
       "971                       0  \n",
       "972                       1  \n",
       "973                       0  \n",
       "974                       0  \n",
       "975                       0  \n",
       "976                       0  \n",
       "977                       1  \n",
       "978                       0  \n",
       "979                       0  \n",
       "980                       0  \n",
       "981                       0  \n",
       "982                       3  \n",
       "983                       1  \n",
       "984                       1  \n",
       "985                       1  \n",
       "\n",
       "[986 rows x 10 columns]"
      ]
     },
     "execution_count": 10,
     "metadata": {},
     "output_type": "execute_result"
    }
   ],
   "source": [
    "X"
   ]
  },
  {
   "cell_type": "code",
   "execution_count": 11,
   "metadata": {},
   "outputs": [],
   "source": [
    "from sklearn.model_selection import train_test_split\n",
    "\n",
    "X_train, X_test, y_train, y_test = train_test_split(X, y, random_state=1)"
   ]
  },
  {
   "cell_type": "markdown",
   "metadata": {},
   "source": [
    "# Neural Network - MultiView Plain"
   ]
  },
  {
   "cell_type": "code",
   "execution_count": 12,
   "metadata": {},
   "outputs": [],
   "source": [
    "import numpy as np\n",
    "from keras.models import Sequential\n",
    "from keras.layers import Dense\n",
    "from keras.wrappers.scikit_learn import KerasRegressor"
   ]
  },
  {
   "cell_type": "code",
   "execution_count": 13,
   "metadata": {},
   "outputs": [],
   "source": [
    "seed = 7\n",
    "np.random.seed(seed)"
   ]
  },
  {
   "cell_type": "code",
   "execution_count": 14,
   "metadata": {},
   "outputs": [],
   "source": [
    "# Model\n",
    "model = Sequential()\n",
    "model.add(Dense(200, input_dim=10, kernel_initializer='normal', activation='relu'))\n",
    "model.add(Dense(100, kernel_initializer='normal', activation='relu'))\n",
    "model.add(Dense(50, kernel_initializer='normal', activation='relu'))\n",
    "model.add(Dense(25, kernel_initializer='normal', activation='relu'))\n",
    "model.add(Dense(1, kernel_initializer='normal'))\n",
    "# Compile model\n",
    "model.compile(loss='mean_squared_error', optimizer=keras.optimizers.Adadelta())"
   ]
  },
  {
   "cell_type": "code",
   "execution_count": 19,
   "metadata": {},
   "outputs": [],
   "source": [
    "feature_cols = X_train\n",
    "labels = y_train"
   ]
  },
  {
   "cell_type": "code",
   "execution_count": 20,
   "metadata": {},
   "outputs": [
    {
     "name": "stdout",
     "output_type": "stream",
     "text": [
      "Epoch 1/100\n",
      "74/74 [==============================] - 0s 2ms/step - loss: 17103898.0000\n",
      "Epoch 2/100\n",
      "74/74 [==============================] - 0s 2ms/step - loss: 17103442.0000\n",
      "Epoch 3/100\n",
      "74/74 [==============================] - 0s 2ms/step - loss: 17102606.0000\n",
      "Epoch 4/100\n",
      "74/74 [==============================] - 0s 2ms/step - loss: 17101534.0000\n",
      "Epoch 5/100\n",
      "74/74 [==============================] - 0s 2ms/step - loss: 17101052.0000\n",
      "Epoch 6/100\n",
      "74/74 [==============================] - 0s 2ms/step - loss: 17100358.0000\n",
      "Epoch 7/100\n",
      "74/74 [==============================] - 0s 2ms/step - loss: 17100008.0000\n",
      "Epoch 8/100\n",
      "74/74 [==============================] - 0s 2ms/step - loss: 17099270.0000\n",
      "Epoch 9/100\n",
      "74/74 [==============================] - 0s 2ms/step - loss: 17098904.0000\n",
      "Epoch 10/100\n",
      "74/74 [==============================] - 0s 2ms/step - loss: 17097872.0000\n",
      "Epoch 11/100\n",
      "74/74 [==============================] - 0s 2ms/step - loss: 17097586.0000\n",
      "Epoch 12/100\n",
      "74/74 [==============================] - 0s 2ms/step - loss: 17097496.0000\n",
      "Epoch 13/100\n",
      "74/74 [==============================] - 0s 2ms/step - loss: 17096978.0000\n",
      "Epoch 14/100\n",
      "74/74 [==============================] - 0s 2ms/step - loss: 17096558.0000\n",
      "Epoch 15/100\n",
      "74/74 [==============================] - 0s 2ms/step - loss: 17095932.0000\n",
      "Epoch 16/100\n",
      "74/74 [==============================] - 0s 2ms/step - loss: 17095796.0000\n",
      "Epoch 17/100\n",
      "74/74 [==============================] - 0s 2ms/step - loss: 17095362.0000\n",
      "Epoch 18/100\n",
      "74/74 [==============================] - 0s 2ms/step - loss: 17095352.0000\n",
      "Epoch 19/100\n",
      "74/74 [==============================] - 0s 2ms/step - loss: 17095020.0000\n",
      "Epoch 20/100\n",
      "74/74 [==============================] - 0s 2ms/step - loss: 17094378.0000\n",
      "Epoch 21/100\n",
      "74/74 [==============================] - 0s 2ms/step - loss: 17094198.0000\n",
      "Epoch 22/100\n",
      "74/74 [==============================] - 0s 2ms/step - loss: 17093586.0000\n",
      "Epoch 23/100\n",
      "74/74 [==============================] - 0s 2ms/step - loss: 17093946.0000\n",
      "Epoch 24/100\n",
      "74/74 [==============================] - 0s 2ms/step - loss: 17093536.0000\n",
      "Epoch 25/100\n",
      "74/74 [==============================] - 0s 2ms/step - loss: 17092832.0000\n",
      "Epoch 26/100\n",
      "74/74 [==============================] - 0s 2ms/step - loss: 17092776.0000\n",
      "Epoch 27/100\n",
      "74/74 [==============================] - 0s 2ms/step - loss: 17092692.0000\n",
      "Epoch 28/100\n",
      "74/74 [==============================] - 0s 2ms/step - loss: 17092456.0000\n",
      "Epoch 29/100\n",
      "74/74 [==============================] - 0s 2ms/step - loss: 17092214.0000\n",
      "Epoch 30/100\n",
      "74/74 [==============================] - 0s 2ms/step - loss: 17091800.0000\n",
      "Epoch 31/100\n",
      "74/74 [==============================] - 0s 2ms/step - loss: 17091428.0000\n",
      "Epoch 32/100\n",
      "74/74 [==============================] - 0s 2ms/step - loss: 17091238.0000\n",
      "Epoch 33/100\n",
      "74/74 [==============================] - 0s 2ms/step - loss: 17090580.0000\n",
      "Epoch 34/100\n",
      "74/74 [==============================] - 0s 2ms/step - loss: 17090590.0000\n",
      "Epoch 35/100\n",
      "74/74 [==============================] - 0s 2ms/step - loss: 17090206.0000\n",
      "Epoch 36/100\n",
      "74/74 [==============================] - 0s 2ms/step - loss: 17090132.0000\n",
      "Epoch 37/100\n",
      "74/74 [==============================] - 0s 2ms/step - loss: 17090126.0000\n",
      "Epoch 38/100\n",
      "74/74 [==============================] - 0s 2ms/step - loss: 17090142.0000\n",
      "Epoch 39/100\n",
      "74/74 [==============================] - 0s 2ms/step - loss: 17089598.0000\n",
      "Epoch 40/100\n",
      "74/74 [==============================] - 0s 2ms/step - loss: 17089008.0000\n",
      "Epoch 41/100\n",
      "74/74 [==============================] - 0s 2ms/step - loss: 17089138.0000\n",
      "Epoch 42/100\n",
      "74/74 [==============================] - 0s 2ms/step - loss: 17088894.0000\n",
      "Epoch 43/100\n",
      "74/74 [==============================] - 0s 2ms/step - loss: 17088800.0000\n",
      "Epoch 44/100\n",
      "74/74 [==============================] - ETA: 0s - loss: 15931935.00 - 0s 2ms/step - loss: 17088584.0000\n",
      "Epoch 45/100\n",
      "74/74 [==============================] - 0s 2ms/step - loss: 17088072.0000\n",
      "Epoch 46/100\n",
      "74/74 [==============================] - 0s 2ms/step - loss: 17087810.0000\n",
      "Epoch 47/100\n",
      "74/74 [==============================] - 0s 2ms/step - loss: 17087446.0000\n",
      "Epoch 48/100\n",
      "74/74 [==============================] - 0s 2ms/step - loss: 17087336.0000\n",
      "Epoch 49/100\n",
      "74/74 [==============================] - 0s 2ms/step - loss: 17087212.0000\n",
      "Epoch 50/100\n",
      "74/74 [==============================] - 0s 2ms/step - loss: 17087102.0000\n",
      "Epoch 51/100\n",
      "74/74 [==============================] - 0s 2ms/step - loss: 17086448.0000\n",
      "Epoch 52/100\n",
      "74/74 [==============================] - 0s 2ms/step - loss: 17086216.0000\n",
      "Epoch 53/100\n",
      "74/74 [==============================] - 0s 2ms/step - loss: 17086452.0000\n",
      "Epoch 54/100\n",
      "74/74 [==============================] - 0s 2ms/step - loss: 17086016.0000\n",
      "Epoch 55/100\n",
      "74/74 [==============================] - 0s 2ms/step - loss: 17085780.0000\n",
      "Epoch 56/100\n",
      "74/74 [==============================] - 0s 2ms/step - loss: 17085178.0000\n",
      "Epoch 57/100\n",
      "74/74 [==============================] - 0s 2ms/step - loss: 17085490.0000\n",
      "Epoch 58/100\n",
      "74/74 [==============================] - 0s 2ms/step - loss: 17085018.0000\n",
      "Epoch 59/100\n",
      "74/74 [==============================] - 0s 2ms/step - loss: 17084872.0000\n",
      "Epoch 60/100\n",
      "74/74 [==============================] - 0s 2ms/step - loss: 17084490.0000\n",
      "Epoch 61/100\n",
      "74/74 [==============================] - 0s 2ms/step - loss: 17084450.0000\n",
      "Epoch 62/100\n",
      "74/74 [==============================] - 0s 2ms/step - loss: 17084018.0000\n",
      "Epoch 63/100\n",
      "74/74 [==============================] - 0s 2ms/step - loss: 17084240.0000\n",
      "Epoch 64/100\n",
      "74/74 [==============================] - 0s 2ms/step - loss: 17083790.0000\n",
      "Epoch 65/100\n",
      "74/74 [==============================] - 0s 2ms/step - loss: 17083312.0000\n",
      "Epoch 66/100\n",
      "74/74 [==============================] - 0s 2ms/step - loss: 17083212.0000\n",
      "Epoch 67/100\n",
      "74/74 [==============================] - 0s 2ms/step - loss: 17082866.0000\n",
      "Epoch 68/100\n",
      "74/74 [==============================] - 0s 3ms/step - loss: 17082776.0000\n",
      "Epoch 69/100\n",
      "74/74 [==============================] - 0s 2ms/step - loss: 17082798.0000\n",
      "Epoch 70/100\n",
      "74/74 [==============================] - 0s 2ms/step - loss: 17082332.0000\n",
      "Epoch 71/100\n",
      "74/74 [==============================] - 0s 2ms/step - loss: 17081698.0000\n",
      "Epoch 72/100\n",
      "74/74 [==============================] - 0s 2ms/step - loss: 17081532.0000: 0s - loss: 17037502.\n",
      "Epoch 73/100\n",
      "74/74 [==============================] - 0s 2ms/step - loss: 17081594.0000\n",
      "Epoch 74/100\n",
      "74/74 [==============================] - 0s 2ms/step - loss: 17081370.0000\n",
      "Epoch 75/100\n",
      "74/74 [==============================] - 0s 2ms/step - loss: 17081382.0000\n",
      "Epoch 76/100\n",
      "74/74 [==============================] - 0s 2ms/step - loss: 17080888.0000\n",
      "Epoch 77/100\n",
      "74/74 [==============================] - 0s 2ms/step - loss: 17080302.0000\n",
      "Epoch 78/100\n",
      "74/74 [==============================] - 0s 2ms/step - loss: 17080210.0000\n",
      "Epoch 79/100\n",
      "74/74 [==============================] - 0s 2ms/step - loss: 17080092.0000\n",
      "Epoch 80/100\n",
      "74/74 [==============================] - 0s 2ms/step - loss: 17080134.0000\n",
      "Epoch 81/100\n",
      "74/74 [==============================] - 0s 2ms/step - loss: 17079506.0000\n",
      "Epoch 82/100\n",
      "74/74 [==============================] - 0s 2ms/step - loss: 17079628.0000\n",
      "Epoch 83/100\n",
      "74/74 [==============================] - 0s 2ms/step - loss: 17079170.0000\n",
      "Epoch 84/100\n",
      "74/74 [==============================] - 0s 2ms/step - loss: 17078680.0000\n",
      "Epoch 85/100\n",
      "74/74 [==============================] - 0s 2ms/step - loss: 17078950.0000\n",
      "Epoch 86/100\n",
      "74/74 [==============================] - 0s 2ms/step - loss: 17078048.0000\n",
      "Epoch 87/100\n",
      "74/74 [==============================] - 0s 2ms/step - loss: 17078386.0000\n",
      "Epoch 88/100\n",
      "74/74 [==============================] - 0s 2ms/step - loss: 17077982.0000\n",
      "Epoch 89/100\n",
      "74/74 [==============================] - 0s 2ms/step - loss: 17077756.0000\n",
      "Epoch 90/100\n",
      "74/74 [==============================] - 0s 2ms/step - loss: 17077760.0000\n",
      "Epoch 91/100\n",
      "74/74 [==============================] - 0s 2ms/step - loss: 17076940.0000\n",
      "Epoch 92/100\n",
      "74/74 [==============================] - 0s 2ms/step - loss: 17077720.0000\n",
      "Epoch 93/100\n",
      "74/74 [==============================] - 0s 2ms/step - loss: 17077120.0000\n",
      "Epoch 94/100\n",
      "74/74 [==============================] - 0s 2ms/step - loss: 17076284.0000\n",
      "Epoch 95/100\n",
      "74/74 [==============================] - 0s 2ms/step - loss: 17076260.0000\n",
      "Epoch 96/100\n",
      "74/74 [==============================] - 0s 2ms/step - loss: 17075884.0000\n",
      "Epoch 97/100\n",
      "74/74 [==============================] - 0s 2ms/step - loss: 17075820.0000\n",
      "Epoch 98/100\n",
      "74/74 [==============================] - 0s 2ms/step - loss: 17075416.0000\n",
      "Epoch 99/100\n",
      "74/74 [==============================] - 0s 2ms/step - loss: 17075072.0000\n",
      "Epoch 100/100\n",
      "74/74 [==============================] - 0s 2ms/step - loss: 17075184.0000\n"
     ]
    },
    {
     "data": {
      "text/plain": [
       "<tensorflow.python.keras.callbacks.History at 0x7f165445a208>"
      ]
     },
     "execution_count": 20,
     "metadata": {},
     "output_type": "execute_result"
    }
   ],
   "source": [
    "model.fit(np.array(feature_cols), np.array(labels), epochs=1000, batch_size=10)"
   ]
  },
  {
   "cell_type": "code",
   "execution_count": 21,
   "metadata": {},
   "outputs": [
    {
     "name": "stdout",
     "output_type": "stream",
     "text": [
      "24/24 [==============================] - 0s 1ms/step - loss: 17073756.0000\n"
     ]
    },
    {
     "data": {
      "text/plain": [
       "17073756.0"
      ]
     },
     "execution_count": 21,
     "metadata": {},
     "output_type": "execute_result"
    }
   ],
   "source": [
    "# Evaluation on the test set created by train_test_split\n",
    "model.evaluate(np.array(feature_cols), np.array(labels))"
   ]
  },
  {
   "cell_type": "markdown",
   "metadata": {},
   "source": [
    "# Neural Network - LSTM - Multi-View"
   ]
  },
  {
   "cell_type": "code",
   "execution_count": 31,
   "metadata": {},
   "outputs": [],
   "source": [
    "from keras.models import Sequential\n",
    "from keras.layers import Dense\n",
    "from keras.layers import LSTM\n",
    "from keras.layers import Dropout"
   ]
  },
  {
   "cell_type": "code",
   "execution_count": 29,
   "metadata": {},
   "outputs": [],
   "source": [
    "X_train, y_train = np.array(X_train), np.array(y_train)\n",
    "\n",
    "X_train = np.reshape(X_train, [X_train.shape[0], X_train.shape[1], 1])\n",
    "#print(X_train)"
   ]
  },
  {
   "cell_type": "code",
   "execution_count": 32,
   "metadata": {},
   "outputs": [],
   "source": [
    "regressor = Sequential()\n",
    "regressor.add(LSTM(units = 50, return_sequences=True, input_shape = (X_train.shape[1], 1)))\n",
    "\n",
    "regressor.add(Dropout(0.2))\n",
    "regressor.add(LSTM(units = 50, return_sequences=True))\n",
    "regressor.add(Dropout(0.2))\n",
    "\n",
    "#------------------------------------------------------------------#\n",
    "# Adding the third LSTM layer\n",
    "#------------------------------------------------------------------#\n",
    "regressor.add(LSTM(units = 50, return_sequences=True))\n",
    "regressor.add(Dropout(0.2))\n",
    "\n",
    "#------------------------------------------------------------------#\n",
    "# Adding the forth LSTM layer\n",
    "#------------------------------------------------------------------#\n",
    "regressor.add(LSTM(units = 50, return_sequences=True))\n",
    "regressor.add(Dropout(0.2))\n",
    "\n",
    "#------------------------------------------------------------------#\n",
    "# Adding the fifth LSTM layer\n",
    "#------------------------------------------------------------------#\n",
    "# note that this is the final LSTM layer, hence we change the binary argument to False\n",
    "regressor.add(LSTM(units = 50))\n",
    "regressor.add(Dropout(0.2))\n",
    "\n",
    "#------------------------------------------------------------------#\n",
    "# Adding output layer to the RNN to make a fully connected NN\n",
    "#------------------------------------------------------------------#\n",
    "# one dimensional real output\n",
    "regressor.add(Dense(units = 1))\n",
    "\n"
   ]
  },
  {
   "cell_type": "code",
   "execution_count": 33,
   "metadata": {},
   "outputs": [],
   "source": [
    "regressor.compile(optimizer = 'adam', loss = 'mean_squared_error')"
   ]
  },
  {
   "cell_type": "code",
   "execution_count": 34,
   "metadata": {},
   "outputs": [
    {
     "name": "stdout",
     "output_type": "stream",
     "text": [
      "Epoch 1/120\n",
      "24/24 [==============================] - 1s 32ms/step - loss: 619227520.0000\n",
      "Epoch 2/120\n",
      "24/24 [==============================] - 1s 31ms/step - loss: 618928896.0000\n",
      "Epoch 3/120\n",
      "24/24 [==============================] - 1s 31ms/step - loss: 618797632.0000\n",
      "Epoch 4/120\n",
      "24/24 [==============================] - 1s 36ms/step - loss: 618717632.0000\n",
      "Epoch 5/120\n",
      "24/24 [==============================] - 1s 37ms/step - loss: 618647488.0000\n",
      "Epoch 6/120\n",
      "24/24 [==============================] - 1s 34ms/step - loss: 618577216.0000\n",
      "Epoch 7/120\n",
      "24/24 [==============================] - 1s 31ms/step - loss: 618517888.0000: 0s - loss: 652\n",
      "Epoch 8/120\n",
      "24/24 [==============================] - 1s 31ms/step - loss: 618449152.0000\n",
      "Epoch 9/120\n",
      "24/24 [==============================] - 1s 33ms/step - loss: 618387840.0000\n",
      "Epoch 10/120\n",
      "24/24 [==============================] - 1s 31ms/step - loss: 618323840.0000\n",
      "Epoch 11/120\n",
      "24/24 [==============================] - 1s 36ms/step - loss: 618262272.0000\n",
      "Epoch 12/120\n",
      "24/24 [==============================] - 1s 34ms/step - loss: 618206848.0000\n",
      "Epoch 13/120\n",
      "24/24 [==============================] - 1s 31ms/step - loss: 618138368.0000\n",
      "Epoch 14/120\n",
      "24/24 [==============================] - 1s 31ms/step - loss: 618077504.0000\n",
      "Epoch 15/120\n",
      "24/24 [==============================] - 1s 34ms/step - loss: 618017536.0000\n",
      "Epoch 16/120\n",
      "24/24 [==============================] - 1s 35ms/step - loss: 617951744.0000\n",
      "Epoch 17/120\n",
      "24/24 [==============================] - 1s 41ms/step - loss: 617895872.0000\n",
      "Epoch 18/120\n",
      "24/24 [==============================] - 1s 36ms/step - loss: 617844160.0000\n",
      "Epoch 19/120\n",
      "24/24 [==============================] - 1s 32ms/step - loss: 617773824.0000\n",
      "Epoch 20/120\n",
      "24/24 [==============================] - 1s 32ms/step - loss: 617713408.0000\n",
      "Epoch 21/120\n",
      "24/24 [==============================] - 1s 35ms/step - loss: 617652480.0000\n",
      "Epoch 22/120\n",
      "24/24 [==============================] - 1s 33ms/step - loss: 617601152.0000\n",
      "Epoch 23/120\n",
      "24/24 [==============================] - 1s 32ms/step - loss: 617529152.0000: 0s - loss: 611657472.0\n",
      "Epoch 24/120\n",
      "24/24 [==============================] - 1s 32ms/step - loss: 617478400.0000\n",
      "Epoch 25/120\n",
      "24/24 [==============================] - 1s 34ms/step - loss: 617420736.0000\n",
      "Epoch 26/120\n",
      "24/24 [==============================] - 1s 36ms/step - loss: 617365184.0000\n",
      "Epoch 27/120\n",
      "24/24 [==============================] - 1s 31ms/step - loss: 617292736.0000\n",
      "Epoch 28/120\n",
      "24/24 [==============================] - 1s 36ms/step - loss: 617229440.0000\n",
      "Epoch 29/120\n",
      "24/24 [==============================] - 1s 33ms/step - loss: 617175744.0000\n",
      "Epoch 30/120\n",
      "24/24 [==============================] - 1s 38ms/step - loss: 617109248.0000\n",
      "Epoch 31/120\n",
      "24/24 [==============================] - 1s 35ms/step - loss: 617051968.0000\n",
      "Epoch 32/120\n",
      "24/24 [==============================] - 1s 37ms/step - loss: 616995648.0000\n",
      "Epoch 33/120\n",
      "24/24 [==============================] - 1s 33ms/step - loss: 616939200.0000\n",
      "Epoch 34/120\n",
      "24/24 [==============================] - 1s 32ms/step - loss: 616876032.0000\n",
      "Epoch 35/120\n",
      "24/24 [==============================] - 1s 34ms/step - loss: 616807296.0000\n",
      "Epoch 36/120\n",
      "24/24 [==============================] - 1s 36ms/step - loss: 616767872.0000\n",
      "Epoch 37/120\n",
      "24/24 [==============================] - 1s 33ms/step - loss: 616692928.0000\n",
      "Epoch 38/120\n",
      "24/24 [==============================] - 1s 35ms/step - loss: 616654784.0000\n",
      "Epoch 39/120\n",
      "24/24 [==============================] - 1s 36ms/step - loss: 616589440.0000\n",
      "Epoch 40/120\n",
      "24/24 [==============================] - 1s 40ms/step - loss: 616523520.0000\n",
      "Epoch 41/120\n",
      "24/24 [==============================] - 1s 35ms/step - loss: 616479360.0000\n",
      "Epoch 42/120\n",
      "24/24 [==============================] - 1s 35ms/step - loss: 616426880.0000\n",
      "Epoch 43/120\n",
      "24/24 [==============================] - 1s 33ms/step - loss: 616355904.0000\n",
      "Epoch 44/120\n",
      "24/24 [==============================] - 1s 34ms/step - loss: 616292416.0000\n",
      "Epoch 45/120\n",
      "24/24 [==============================] - 1s 35ms/step - loss: 616228800.0000\n",
      "Epoch 46/120\n",
      "24/24 [==============================] - 1s 34ms/step - loss: 616182272.0000\n",
      "Epoch 47/120\n",
      "24/24 [==============================] - 1s 32ms/step - loss: 616121152.0000\n",
      "Epoch 48/120\n",
      "24/24 [==============================] - 1s 35ms/step - loss: 616048064.0000\n",
      "Epoch 49/120\n",
      "24/24 [==============================] - 1s 32ms/step - loss: 616000512.0000\n",
      "Epoch 50/120\n",
      "24/24 [==============================] - 1s 36ms/step - loss: 615932224.0000\n",
      "Epoch 51/120\n",
      "24/24 [==============================] - 1s 38ms/step - loss: 615882432.0000\n",
      "Epoch 52/120\n",
      "24/24 [==============================] - 1s 33ms/step - loss: 615806272.0000: 0s - loss: 612309\n",
      "Epoch 53/120\n",
      "24/24 [==============================] - 1s 36ms/step - loss: 615767040.0000\n",
      "Epoch 54/120\n",
      "24/24 [==============================] - 1s 33ms/step - loss: 615689600.0000\n",
      "Epoch 55/120\n",
      "24/24 [==============================] - 1s 34ms/step - loss: 615645120.0000\n",
      "Epoch 56/120\n",
      "24/24 [==============================] - 1s 34ms/step - loss: 615577728.0000\n",
      "Epoch 57/120\n",
      "24/24 [==============================] - 1s 33ms/step - loss: 615542016.0000\n",
      "Epoch 58/120\n",
      "24/24 [==============================] - 1s 36ms/step - loss: 615463744.0000\n",
      "Epoch 59/120\n",
      "24/24 [==============================] - 1s 37ms/step - loss: 615416256.0000\n",
      "Epoch 60/120\n",
      "24/24 [==============================] - 1s 36ms/step - loss: 615362624.0000\n",
      "Epoch 61/120\n",
      "24/24 [==============================] - 1s 37ms/step - loss: 615302848.0000\n",
      "Epoch 62/120\n",
      "24/24 [==============================] - 1s 33ms/step - loss: 615222464.0000\n",
      "Epoch 63/120\n",
      "24/24 [==============================] - 1s 38ms/step - loss: 615179136.0000\n",
      "Epoch 64/120\n",
      "24/24 [==============================] - 1s 34ms/step - loss: 615121152.0000\n",
      "Epoch 65/120\n",
      "24/24 [==============================] - 1s 34ms/step - loss: 615056896.0000\n",
      "Epoch 66/120\n",
      "24/24 [==============================] - 1s 33ms/step - loss: 615004608.0000\n",
      "Epoch 67/120\n",
      "24/24 [==============================] - 1s 32ms/step - loss: 614934592.0000\n",
      "Epoch 68/120\n",
      "24/24 [==============================] - 1s 32ms/step - loss: 614894080.0000\n",
      "Epoch 69/120\n",
      "24/24 [==============================] - 1s 32ms/step - loss: 614827008.0000\n",
      "Epoch 70/120\n",
      "24/24 [==============================] - 1s 32ms/step - loss: 614757760.0000\n",
      "Epoch 71/120\n",
      "24/24 [==============================] - 1s 31ms/step - loss: 614726464.0000\n",
      "Epoch 72/120\n",
      "24/24 [==============================] - 1s 31ms/step - loss: 614657664.0000\n",
      "Epoch 73/120\n",
      "24/24 [==============================] - 1s 33ms/step - loss: 614592576.0000\n",
      "Epoch 74/120\n",
      "24/24 [==============================] - 1s 32ms/step - loss: 614526144.0000\n",
      "Epoch 75/120\n",
      "24/24 [==============================] - 1s 33ms/step - loss: 614460992.0000\n",
      "Epoch 76/120\n",
      "24/24 [==============================] - 1s 33ms/step - loss: 614392640.0000\n",
      "Epoch 77/120\n",
      "24/24 [==============================] - 1s 38ms/step - loss: 614344832.0000\n",
      "Epoch 78/120\n",
      "24/24 [==============================] - 1s 38ms/step - loss: 614299776.0000\n",
      "Epoch 79/120\n",
      "24/24 [==============================] - 1s 31ms/step - loss: 614244608.0000\n",
      "Epoch 80/120\n",
      "24/24 [==============================] - 1s 32ms/step - loss: 614170176.0000\n",
      "Epoch 81/120\n",
      "24/24 [==============================] - 1s 32ms/step - loss: 614129984.0000\n",
      "Epoch 82/120\n",
      "24/24 [==============================] - 1s 31ms/step - loss: 614046720.0000\n",
      "Epoch 83/120\n",
      "24/24 [==============================] - 1s 31ms/step - loss: 613995392.0000\n",
      "Epoch 84/120\n",
      "24/24 [==============================] - 2s 94ms/step - loss: 613939520.0000\n",
      "Epoch 85/120\n",
      "24/24 [==============================] - 1s 58ms/step - loss: 613893696.0000\n",
      "Epoch 86/120\n",
      "24/24 [==============================] - 1s 35ms/step - loss: 613852672.0000\n",
      "Epoch 87/120\n",
      "24/24 [==============================] - 1s 37ms/step - loss: 613771840.0000\n",
      "Epoch 88/120\n",
      "24/24 [==============================] - 1s 32ms/step - loss: 613715392.0000\n",
      "Epoch 89/120\n",
      "24/24 [==============================] - 1s 36ms/step - loss: 613646144.0000\n",
      "Epoch 90/120\n",
      "24/24 [==============================] - 1s 31ms/step - loss: 613605120.0000\n",
      "Epoch 91/120\n",
      "24/24 [==============================] - 1s 31ms/step - loss: 613549696.0000\n",
      "Epoch 92/120\n",
      "24/24 [==============================] - 1s 30ms/step - loss: 613458176.0000\n",
      "Epoch 93/120\n",
      "24/24 [==============================] - 1s 52ms/step - loss: 613415808.0000\n",
      "Epoch 94/120\n",
      "24/24 [==============================] - 2s 99ms/step - loss: 613346432.0000\n",
      "Epoch 95/120\n",
      "24/24 [==============================] - 1s 30ms/step - loss: 613320000.0000\n",
      "Epoch 96/120\n",
      "24/24 [==============================] - 1s 30ms/step - loss: 613253952.0000\n",
      "Epoch 97/120\n",
      "24/24 [==============================] - 1s 31ms/step - loss: 613207168.0000\n",
      "Epoch 98/120\n",
      "24/24 [==============================] - 1s 31ms/step - loss: 613132672.0000\n",
      "Epoch 99/120\n",
      "24/24 [==============================] - 1s 30ms/step - loss: 613073472.0000\n",
      "Epoch 100/120\n",
      "24/24 [==============================] - 2s 70ms/step - loss: 613016768.0000\n",
      "Epoch 101/120\n",
      "24/24 [==============================] - 2s 79ms/step - loss: 612961280.0000\n",
      "Epoch 102/120\n",
      "24/24 [==============================] - 1s 30ms/step - loss: 612923136.0000\n",
      "Epoch 103/120\n",
      "24/24 [==============================] - 1s 31ms/step - loss: 612849920.0000\n",
      "Epoch 104/120\n",
      "24/24 [==============================] - 1s 31ms/step - loss: 612771072.0000\n",
      "Epoch 105/120\n",
      "24/24 [==============================] - 1s 31ms/step - loss: 612718208.0000\n",
      "Epoch 106/120\n",
      "24/24 [==============================] - 1s 34ms/step - loss: 612663936.0000\n",
      "Epoch 107/120\n",
      "24/24 [==============================] - 1s 39ms/step - loss: 612602176.0000\n",
      "Epoch 108/120\n",
      "24/24 [==============================] - 1s 38ms/step - loss: 612536768.0000\n",
      "Epoch 109/120\n",
      "24/24 [==============================] - 1s 33ms/step - loss: 612494272.0000\n",
      "Epoch 110/120\n",
      "24/24 [==============================] - 1s 39ms/step - loss: 612450816.0000\n",
      "Epoch 111/120\n",
      "24/24 [==============================] - 1s 36ms/step - loss: 612364416.0000\n",
      "Epoch 112/120\n",
      "24/24 [==============================] - 1s 31ms/step - loss: 612287744.0000\n",
      "Epoch 113/120\n",
      "24/24 [==============================] - 1s 34ms/step - loss: 612267264.0000\n",
      "Epoch 114/120\n",
      "24/24 [==============================] - 1s 34ms/step - loss: 612190784.0000\n",
      "Epoch 115/120\n",
      "24/24 [==============================] - 2s 98ms/step - loss: 612124096.0000\n",
      "Epoch 116/120\n",
      "24/24 [==============================] - 1s 50ms/step - loss: 612071296.0000\n",
      "Epoch 117/120\n",
      "24/24 [==============================] - 1s 37ms/step - loss: 612054656.0000\n",
      "Epoch 118/120\n",
      "24/24 [==============================] - 1s 33ms/step - loss: 611923968.0000\n",
      "Epoch 119/120\n",
      "24/24 [==============================] - 1s 34ms/step - loss: 611909824.0000\n",
      "Epoch 120/120\n",
      "24/24 [==============================] - 1s 34ms/step - loss: 611833344.0000\n"
     ]
    },
    {
     "data": {
      "text/plain": [
       "<tensorflow.python.keras.callbacks.History at 0x7f160e48c6a0>"
      ]
     },
     "execution_count": 34,
     "metadata": {},
     "output_type": "execute_result"
    }
   ],
   "source": [
    "regressor.fit(X_train, y_train, epochs = 120, batch_size = 32)"
   ]
  },
  {
   "cell_type": "markdown",
   "metadata": {},
   "source": [
    "# Machine Learning Regression"
   ]
  },
  {
   "cell_type": "code",
   "execution_count": 36,
   "metadata": {},
   "outputs": [],
   "source": [
    "X = train.iloc[:, 0:10]\n",
    "y = train.iloc[:,10]"
   ]
  },
  {
   "cell_type": "code",
   "execution_count": 37,
   "metadata": {},
   "outputs": [],
   "source": [
    "X_train, X_test, y_train, y_test = train_test_split(X, y, random_state=1)"
   ]
  },
  {
   "cell_type": "markdown",
   "metadata": {},
   "source": [
    "# Random Forest Regressor"
   ]
  },
  {
   "cell_type": "code",
   "execution_count": 75,
   "metadata": {},
   "outputs": [],
   "source": [
    "from sklearn.ensemble import RandomForestRegressor\n",
    "RF = RandomForestRegressor(max_depth=2, random_state=0)\n",
    "RF.fit(X_train, y_train)\n",
    "predictions = RF.predict(X_test)"
   ]
  },
  {
   "cell_type": "code",
   "execution_count": 76,
   "metadata": {},
   "outputs": [
    {
     "name": "stdout",
     "output_type": "stream",
     "text": [
      "0.45742052625413754\n"
     ]
    }
   ],
   "source": [
    "print(RF.score(X_test, y_test))"
   ]
  },
  {
   "cell_type": "code",
   "execution_count": 77,
   "metadata": {},
   "outputs": [
    {
     "data": {
      "text/plain": [
       "22012474.774023287"
      ]
     },
     "execution_count": 77,
     "metadata": {},
     "output_type": "execute_result"
    }
   ],
   "source": [
    "from sklearn.metrics import mean_squared_error\n",
    "RF = mean_squared_error(y_test, predictions)\n",
    "RF"
   ]
  },
  {
   "cell_type": "markdown",
   "metadata": {},
   "source": [
    "# Voting Regressor"
   ]
  },
  {
   "cell_type": "code",
   "execution_count": 78,
   "metadata": {},
   "outputs": [],
   "source": [
    "from sklearn.linear_model import LinearRegression\n",
    "from sklearn.ensemble import RandomForestRegressor\n",
    "from sklearn.ensemble import VotingRegressor\n",
    "r1 = LinearRegression()\n",
    "r2 = RandomForestRegressor(random_state=1)\n",
    "er = VotingRegressor([('lr', r1), ('rf', r2)])\n",
    "er.fit(X_train, y_train)\n",
    "predictions = er.predict(X_test)"
   ]
  },
  {
   "cell_type": "code",
   "execution_count": 79,
   "metadata": {},
   "outputs": [
    {
     "name": "stdout",
     "output_type": "stream",
     "text": [
      "0.691662623702207\n"
     ]
    }
   ],
   "source": [
    "print(er.score(X_test, y_test))"
   ]
  },
  {
   "cell_type": "code",
   "execution_count": 80,
   "metadata": {},
   "outputs": [
    {
     "data": {
      "text/plain": [
       "12509261.861282218"
      ]
     },
     "execution_count": 80,
     "metadata": {},
     "output_type": "execute_result"
    }
   ],
   "source": [
    "from sklearn.metrics import mean_squared_error\n",
    "vot = mean_squared_error(y_test, predictions)\n",
    "vot"
   ]
  },
  {
   "cell_type": "markdown",
   "metadata": {},
   "source": [
    "# Linear Regression"
   ]
  },
  {
   "cell_type": "code",
   "execution_count": 81,
   "metadata": {},
   "outputs": [
    {
     "name": "stdout",
     "output_type": "stream",
     "text": [
      "0.6218888805277106\n"
     ]
    },
    {
     "data": {
      "text/plain": [
       "15339985.904184688"
      ]
     },
     "execution_count": 81,
     "metadata": {},
     "output_type": "execute_result"
    }
   ],
   "source": [
    "from sklearn.linear_model import LinearRegression\n",
    "r1 = LinearRegression()\n",
    "r1.fit(X_train, y_train)\n",
    "predictions = r1.predict(X_test)\n",
    "print(r1.score(X_test, y_test))\n",
    "from sklearn.metrics import mean_squared_error\n",
    "lr = mean_squared_error(y_test, predictions)\n",
    "lr"
   ]
  },
  {
   "cell_type": "markdown",
   "metadata": {},
   "source": [
    "# Decision Tree Regressor"
   ]
  },
  {
   "cell_type": "code",
   "execution_count": 83,
   "metadata": {},
   "outputs": [
    {
     "name": "stdout",
     "output_type": "stream",
     "text": [
      "0.46491306747340966\n"
     ]
    },
    {
     "data": {
      "text/plain": [
       "21708502.024291497"
      ]
     },
     "execution_count": 83,
     "metadata": {},
     "output_type": "execute_result"
    }
   ],
   "source": [
    "from sklearn.tree import DecisionTreeRegressor\n",
    "r1 = DecisionTreeRegressor(random_state=0)\n",
    "r1.fit(X_train, y_train)\n",
    "predictions = r1.predict(X_test)\n",
    "print(r1.score(X_test, y_test))\n",
    "from sklearn.metrics import mean_squared_error\n",
    "dt = mean_squared_error(y_test, predictions)\n",
    "dt"
   ]
  },
  {
   "cell_type": "markdown",
   "metadata": {},
   "source": [
    "# FNN - MLP"
   ]
  },
  {
   "cell_type": "code",
   "execution_count": 84,
   "metadata": {},
   "outputs": [
    {
     "name": "stdout",
     "output_type": "stream",
     "text": [
      "0.21109183621194205\n"
     ]
    },
    {
     "name": "stderr",
     "output_type": "stream",
     "text": [
      "/home/user/test/lib/python3.6/site-packages/sklearn/neural_network/_multilayer_perceptron.py:617: ConvergenceWarning: Stochastic Optimizer: Maximum iterations (500) reached and the optimization hasn't converged yet.\n",
      "  % self.max_iter, ConvergenceWarning)\n"
     ]
    },
    {
     "data": {
      "text/plain": [
       "32006041.31688844"
      ]
     },
     "execution_count": 84,
     "metadata": {},
     "output_type": "execute_result"
    }
   ],
   "source": [
    "from sklearn.neural_network import MLPRegressor\n",
    "regr = MLPRegressor(random_state=1, max_iter=500).fit(X_train, y_train)\n",
    "predictions = regr.predict(X_test)\n",
    "print(regr.score(X_test, y_test))\n",
    "from sklearn.metrics import mean_squared_error\n",
    "fnn = mean_squared_error(y_test, predictions)\n",
    "fnn"
   ]
  },
  {
   "cell_type": "markdown",
   "metadata": {},
   "source": [
    "# Gradient Boosting Regressor"
   ]
  },
  {
   "cell_type": "code",
   "execution_count": 85,
   "metadata": {},
   "outputs": [
    {
     "name": "stdout",
     "output_type": "stream",
     "text": [
      "0.6222334538833287\n"
     ]
    },
    {
     "data": {
      "text/plain": [
       "15326006.546937762"
      ]
     },
     "execution_count": 85,
     "metadata": {},
     "output_type": "execute_result"
    }
   ],
   "source": [
    "from sklearn.ensemble import GradientBoostingRegressor\n",
    "reg = GradientBoostingRegressor(random_state=0)\n",
    "reg.fit(X_train,y_train)\n",
    "predictions = reg.predict(X_test)\n",
    "print(reg.score(X_test, y_test))\n",
    "from sklearn.metrics import mean_squared_error\n",
    "gnb = mean_squared_error(y_test, predictions)\n",
    "gnb"
   ]
  },
  {
   "cell_type": "markdown",
   "metadata": {},
   "source": [
    "# LAsso Model"
   ]
  },
  {
   "cell_type": "code",
   "execution_count": 86,
   "metadata": {},
   "outputs": [
    {
     "name": "stdout",
     "output_type": "stream",
     "text": [
      "0.6218752529420435\n"
     ]
    },
    {
     "data": {
      "text/plain": [
       "15340538.775976278"
      ]
     },
     "execution_count": 86,
     "metadata": {},
     "output_type": "execute_result"
    }
   ],
   "source": [
    "from sklearn import linear_model\n",
    "clf = linear_model.Lasso(alpha=0.1)\n",
    "clf.fit(X_train,y_train)\n",
    "predictions = clf.predict(X_test)\n",
    "print(clf.score(X_test, y_test))\n",
    "from sklearn.metrics import mean_squared_error\n",
    "lasso = mean_squared_error(y_test, predictions)\n",
    "lasso"
   ]
  },
  {
   "cell_type": "markdown",
   "metadata": {},
   "source": [
    "# Ridge"
   ]
  },
  {
   "cell_type": "code",
   "execution_count": 87,
   "metadata": {},
   "outputs": [
    {
     "name": "stdout",
     "output_type": "stream",
     "text": [
      "0.6199842380999128\n"
     ]
    },
    {
     "data": {
      "text/plain": [
       "15417257.337079091"
      ]
     },
     "execution_count": 87,
     "metadata": {},
     "output_type": "execute_result"
    }
   ],
   "source": [
    "from sklearn.linear_model import Ridge\n",
    "clf1 = Ridge(alpha=1.0)\n",
    "clf1.fit(X_train,y_train)\n",
    "predictions = clf1.predict(X_test)\n",
    "print(clf1.score(X_test, y_test))\n",
    "from sklearn.metrics import mean_squared_error\n",
    "rid = mean_squared_error(y_test, predictions)\n",
    "rid"
   ]
  },
  {
   "cell_type": "markdown",
   "metadata": {},
   "source": [
    "# Model Dumping"
   ]
  },
  {
   "cell_type": "code",
   "execution_count": 63,
   "metadata": {},
   "outputs": [
    {
     "data": {
      "text/plain": [
       "['model.sav']"
      ]
     },
     "execution_count": 63,
     "metadata": {},
     "output_type": "execute_result"
    }
   ],
   "source": [
    "import joblib\n",
    "filename = 'model.sav'\n",
    "joblib.dump(er, filename)"
   ]
  },
  {
   "cell_type": "markdown",
   "metadata": {},
   "source": [
    "Note: from the above score & mse value voting regression has less mse value comparing to others"
   ]
  },
  {
   "cell_type": "code",
   "execution_count": null,
   "metadata": {},
   "outputs": [],
   "source": []
  }
 ],
 "metadata": {
  "kernelspec": {
   "display_name": "Python 3 (ipykernel)",
   "language": "python",
   "name": "python3"
  },
  "language_info": {
   "codemirror_mode": {
    "name": "ipython",
    "version": 3
   },
   "file_extension": ".py",
   "mimetype": "text/x-python",
   "name": "python",
   "nbconvert_exporter": "python",
   "pygments_lexer": "ipython3",
   "version": "3.7.0"
  }
 },
 "nbformat": 4,
 "nbformat_minor": 4
}
